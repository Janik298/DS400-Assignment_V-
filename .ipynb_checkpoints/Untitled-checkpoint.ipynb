{
 "cells": [
  {
   "cell_type": "markdown",
   "id": "4d6244b9",
   "metadata": {},
   "source": [
    "# DS400: Assignment V (Python)\n",
    "\n",
    "##### Janik Müller (Student ID: 6303477)\n",
    "##### January 31, 2022\n",
    "I worked together with Christopher Forschner and Simon Andresin Python and R"
   ]
  },
  {
   "cell_type": "markdown",
   "id": "45abc08a",
   "metadata": {},
   "source": [
    "## Setting up a new GitHub repository\n",
    "(1) Register on github.com in case you have not done this already.<br>\n",
    "\n",
    "(2) Initialize a new public repository for this assignment on GitHub.<br>\n",
    "\n",
    "(3) For the following exercises of this assignment, follow the standard Git workflow (i.e., pull the latest\n",
    "version of the project to your local computer, then stage, commit, and push all the modifications that you\n",
    "make throughout the project). Every logical programming step should be well documented on GitHub\n",
    "with a meaningful commit message, so that other people (e.g., your course instructor) can follow and\n",
    "understand the development history. You can do this either using Shell commands or a Git GUI of your\n",
    "choice. <br>\n",
    "\n",
    "(4) In the HTML file that you submit, include the hyperlink to the project repository (e.g., https://github.\n",
    "com/yourUserName/yourProjectName)"
   ]
  },
  {
   "cell_type": "code",
   "execution_count": 1,
   "id": "aae4731a",
   "metadata": {},
   "outputs": [],
   "source": [
    "# Git Repository\n",
    "\n",
    "git_repository_url = \"https://github.com/Janik298/DS400-Assignment_V-.git\""
   ]
  },
  {
   "cell_type": "markdown",
   "id": "bb792356",
   "metadata": {},
   "source": [
    "## Preparing the Environment\n",
    "\n",
    "Before starting with the Assignment we are loading all necessayr packages and setting the WD."
   ]
  },
  {
   "cell_type": "code",
   "execution_count": 2,
   "id": "be82a9b1",
   "metadata": {},
   "outputs": [],
   "source": [
    "# Working Directory\n",
    "import os\n",
    "os.chdir(\"C:/Users/janik/OneDrive/Eberhard_Karls_Universitaet_Tuebingen/1.Semester/DS400/Assignment_V/DS400-Assignment_V-\")\n",
    "\n",
    "# Importing the packages\n",
    "\n",
    "import numpy as np\n",
    "import pandas as pd\n",
    "import requests\n",
    "import time"
   ]
  },
  {
   "cell_type": "markdown",
   "id": "0aa5c4e6",
   "metadata": {},
   "source": [
    "## Getting to know the API\n",
    "(5) Visit the documentation website for the API provided by ticketmaster.com (see here). Familiarize yourself\n",
    "with the features and functionalities of the Ticketmaster Discovery API. Have a particular look at\n",
    "rate limits.<br>"
   ]
  },
  {
   "cell_type": "markdown",
   "id": "f31e2b1c",
   "metadata": {},
   "source": [
    "Features of the API: \n",
    "- The default quota is 5000 API calls per day and rate limitation of 5 requests per second. \n",
    "- Deep Paging: we only support retrieving the 1000th item. i.e. ( size * page < 1000) - Root URL: https://app.ticketmaster.com/discovery/v2/ \n",
    "- Event Search is possible via latitude and longitude with “latlong” \n",
    "- however they say one should you “geoPoint” instead \n",
    "- Overall a lot of information is provided by the API"
   ]
  },
  {
   "cell_type": "markdown",
   "id": "4e8a4adc",
   "metadata": {},
   "source": [
    "(6) Whithin the scope of this assignment, you do not have to request your own API key. Instead retrieve\n",
    "a valid key from the API Explorer. This API key enables you to perform the GET requests needed\n",
    "throughout this assignment. Even though this API key is not secret per se (it is publicly visible on the\n",
    "API Explorer website), please comply to the common secrecy practices discussed in the lecture and the\n",
    "tutorial: Treat the API key as a secret token. Your API key should neither appear in the code that you\n",
    "are submitting nor in your public GitHub repository.<br>"
   ]
  },
  {
   "cell_type": "code",
   "execution_count": 3,
   "id": "11fcccc9",
   "metadata": {},
   "outputs": [],
   "source": [
    "# Loading the API Key \n",
    "\n",
    "with open(\"api_key.py\") as script:\n",
    "    exec(script.read())"
   ]
  },
  {
   "cell_type": "markdown",
   "id": "43afe2e3",
   "metadata": {},
   "source": [
    "## Interacting with the API - the basics\n",
    "(7) Perform a first GET request, that searches for event venues in Germany (countryCode = \"DE\"). Extract\n",
    "the content from the response object and inspect the resulting list. Describe what you can see.<br>"
   ]
  },
  {
   "cell_type": "code",
   "execution_count": 4,
   "id": "b3d5043f",
   "metadata": {},
   "outputs": [
    {
     "name": "stdout",
     "output_type": "stream",
     "text": [
      "20 647 12936 0\n"
     ]
    }
   ],
   "source": [
    "# Make a first request to get the evebt venues in Germany\n",
    "\n",
    "venues_de = requests.get(\"https://app.ticketmaster.com/discovery/v2/venues\",\n",
    "                         params = {\"apikey\": api_key, \"countryCode\": \"DE\",\"locale\":\"*\"}).json()\n",
    "\n",
    "\n",
    "# Extracting the Content in order to inspect it:\n",
    "\n",
    "print(venues_de[\"page\"][\"size\"], venues_de[\"page\"][\"totalPages\"], venues_de[\"page\"][\"totalElements\"], venues_de[\"page\"][\"number\"])\n",
    "\n"
   ]
  },
  {
   "cell_type": "markdown",
   "id": "8ea71918",
   "metadata": {},
   "source": [
    "The response is a list with three sublists. Each of those sublists contains more information. The “page” sublist contains overall information about the response. It includes infos about the number of pages, the size of those pages and the total number of available elements in the server. The links list gives links to my current, the next and the last dataset - overall, it links to data sets. Last but not least, the _embedded list is the container and contains the information I am interested in for the analysis. Coming back to the “Page” Sublist, we can see that the server has 12935 venues for our GET request overall. Size tells us how many venues are on one page, while total pages decribes how many pages there are overall. Moreover, number depicts the current page we are on."
   ]
  },
  {
   "cell_type": "markdown",
   "id": "50da4348",
   "metadata": {},
   "source": [
    "(8) Extract the name, the city, the postalCode and address, as well as the url and the longitude\n",
    "and latitude of the venues to a data frame."
   ]
  },
  {
   "cell_type": "code",
   "execution_count": 14,
   "id": "989d5506",
   "metadata": {},
   "outputs": [
    {
     "name": "stderr",
     "output_type": "stream",
     "text": [
      "<>:1: SyntaxWarning: 'int' object is not subscriptable; perhaps you missed a comma?\n",
      "<>:1: SyntaxWarning: 'int' object is not subscriptable; perhaps you missed a comma?\n",
      "C:\\Users\\janik\\AppData\\Local\\Temp\\ipykernel_63328\\2128353860.py:1: SyntaxWarning: 'int' object is not subscriptable; perhaps you missed a comma?\n",
      "  venues_de['_embedded']['venues']:1['name']\n"
     ]
    },
    {
     "ename": "TypeError",
     "evalue": "'int' object is not subscriptable",
     "output_type": "error",
     "traceback": [
      "\u001b[1;31m---------------------------------------------------------------------------\u001b[0m",
      "\u001b[1;31mTypeError\u001b[0m                                 Traceback (most recent call last)",
      "\u001b[1;32m~\\AppData\\Local\\Temp\\ipykernel_63328\\2128353860.py\u001b[0m in \u001b[0;36m<module>\u001b[1;34m\u001b[0m\n\u001b[1;32m----> 1\u001b[1;33m \u001b[0mvenues_de\u001b[0m\u001b[1;33m[\u001b[0m\u001b[1;34m'_embedded'\u001b[0m\u001b[1;33m]\u001b[0m\u001b[1;33m[\u001b[0m\u001b[1;34m'venues'\u001b[0m\u001b[1;33m]\u001b[0m\u001b[1;33m:\u001b[0m\u001b[1;36m1\u001b[0m\u001b[1;33m[\u001b[0m\u001b[1;34m'name'\u001b[0m\u001b[1;33m]\u001b[0m\u001b[1;33m\u001b[0m\u001b[1;33m\u001b[0m\u001b[0m\n\u001b[0m",
      "\u001b[1;31mTypeError\u001b[0m: 'int' object is not subscriptable"
     ]
    }
   ],
   "source": [
    "venues_de['_embedded']['venues']:['name']"
   ]
  },
  {
   "cell_type": "code",
   "execution_count": 15,
   "id": "9ee6b0d4",
   "metadata": {},
   "outputs": [
    {
     "name": "stdout",
     "output_type": "stream",
     "text": [
      "                          name               city postalCode  \\\n",
      "0           Grosse Freiheit 36            Hamburg      22767   \n",
      "1                    Gruenspan            Hamburg      22767   \n",
      "2            Huxleys Neue Welt             Berlin      10967   \n",
      "3              Zentrum am Park       Emmelshausen      56281   \n",
      "4     Stadthalle (Theatersaal)            Mülheim      45479   \n",
      "5                Schlossgarten           Bruchsal      76646   \n",
      "6                   Stadthalle         Hockenheim      68766   \n",
      "7                          FZW           Dortmund      44263   \n",
      "8                  Arena Trier              Trier      54292   \n",
      "9                Eissporthalle          Memmingen      87700   \n",
      "10       Stadthalle Gersthofen         Gersthofen      86368   \n",
      "11       Feierwerk (Kranhalle)             Munich      81373   \n",
      "12        Feierwerk (Hansa 39)             Munich      81373   \n",
      "13  Burghof - STIMMEN-Festival            Lörrach      79539   \n",
      "14          Schiesssportanlage      Neu Wulmstorf      21629   \n",
      "15             WUNDERINO ARENA               Kiel      24103   \n",
      "16          Stadtpark Open Air            Hamburg      22303   \n",
      "17   Laeiszhalle (Großer Saal)            Hamburg      20355   \n",
      "18       Friedrich-Ebert-Halle            Hamburg      21075   \n",
      "19   myticket Jahrhunderthalle  Frankfurt am Main      65929   \n",
      "\n",
      "                           address  \\\n",
      "0               Grosse Freiheit 36   \n",
      "1               Grosse Freiheit 58   \n",
      "2             Hasenheide 107 – 113   \n",
      "3            Rhein-Mosel-Straße 45   \n",
      "4            Theodor-Heuss-Platz 1   \n",
      "5                 Schloss Bruchsal   \n",
      "6                  Rathausstraße 3   \n",
      "7                  Ritterstraße 20   \n",
      "8               Fort-Worth-Platz 1   \n",
      "9              Hühnerbergstraße 19   \n",
      "10                  Rathausplatz 2   \n",
      "11               Hansastraße 39-41   \n",
      "12               Hansastraße 39-41   \n",
      "13                  Herrenstraße 5   \n",
      "14                     Wesenberg 1   \n",
      "15                   Europaplatz 1   \n",
      "16  Saarlandstraße / Ecke Jahnring   \n",
      "17           Johannes-Brahms-Platz   \n",
      "18             Alter Postweg 30-38   \n",
      "19                Pfaffenwiese 301   \n",
      "\n",
      "                                                  url longitude   latitude  \n",
      "0             http://www.ticketmaster.de/venue/287636  9.957905  53.551187  \n",
      "1             http://www.ticketmaster.de/venue/287155  9.958075  53.551885  \n",
      "2             http://www.ticketmaster.de/venue/286842  13.42138  52.486391  \n",
      "3   https://www.ticketmaster.de/venue/zentrum-am-p...   7.55656   50.15544  \n",
      "4   https://www.ticketmaster.de/venue/stadthalle-t...   6.87471   51.42778  \n",
      "5   https://www.ticketmaster.de/venue/schlossgarte...   8.59908   49.12692  \n",
      "6   https://www.ticketmaster.de/venue/stadthalle-h...   8.54908   49.31849  \n",
      "7   https://www.ticketmaster.de/venue/fzw-dortmund...    7.4501   51.51481  \n",
      "8   https://www.ticketmaster.de/venue/arena-trier-...   6.66426   49.77183  \n",
      "9   https://www.ticketmaster.de/venue/eissporthall...  10.16293   47.97999  \n",
      "10  https://www.ticketmaster.de/venue/stadthalle-g...  10.87803   48.42433  \n",
      "11  https://www.ticketmaster.de/venue/feierwerk-kr...  11.53389   48.12914  \n",
      "12  https://www.ticketmaster.de/venue/feierwerk-ha...  11.53389   48.12914  \n",
      "13  https://www.ticketmaster.de/venue/burghof-stim...   7.65919   47.61109  \n",
      "14  https://www.ticketmaster.de/venue/schiesssport...   9.79941   53.45047  \n",
      "15  https://www.ticketmaster.de/venue/wunderino-ar...  10.13139   54.32057  \n",
      "16  https://www.ticketmaster.de/venue/stadtpark-op...   10.0295   53.60036  \n",
      "17  https://www.ticketmaster.de/venue/laeiszhalle-...   9.98061   53.55538  \n",
      "18  https://www.ticketmaster.de/venue/friedrich-eb...   9.96507   53.46498  \n",
      "19  https://www.ticketmaster.de/venue/myticket-jah...   8.51972   50.09914  \n"
     ]
    }
   ],
   "source": [
    "## Extracting the Information from the Request\n",
    "\n",
    "# A list with all the information\n",
    "venues_de[\"_embedded\"][\"venues\"]\n",
    "\n",
    "# Initializing the 7 Variables that we want to obtain\n",
    "names = []\n",
    "city = []\n",
    "postal_code = []\n",
    "address = []\n",
    "url = []\n",
    "longitude = []\n",
    "latitude = []\n",
    "\n",
    "\n",
    "\n",
    "\n",
    "# In order to obtain the values of the list we can loop over the list and save the values one by one in the previously initialized containers\n",
    "\n",
    "\n",
    "for i in venues_de[\"_embedded\"][\"venues\"]:\n",
    "    names.append(i[\"name\"])\n",
    "    city.append(i[\"city\"][\"name\"])       \n",
    "    postal_code.append(i[\"postalCode\"])\n",
    "    address.append(i[\"address\"][\"line1\"])\n",
    "    url.append(i['url'])\n",
    "    longitude.append(i[\"location\"][\"longitude\"])\n",
    "    latitude.append(i[\"location\"][\"latitude\"])                \n",
    "\n",
    "\n",
    "\n",
    "dict = {\"name\":names,\n",
    "            \"city\":city,\n",
    "            \"postalCode\":postal_code,\n",
    "            \"address\":address,\n",
    "            \"url\":url,\n",
    "            \"longitude\":longitude,\n",
    "            \"latitude\":latitude}\n",
    "\n",
    "# Store the Values in a Data Frame\n",
    "venues_de_df_1 = pd.DataFrame(dict) \n",
    "print(venues_de_df_1)        \n",
    "  \n",
    "   \n"
   ]
  },
  {
   "cell_type": "code",
   "execution_count": 8,
   "id": "4037365b",
   "metadata": {},
   "outputs": [],
   "source": [
    "names.append(i[\"name\"])"
   ]
  },
  {
   "cell_type": "markdown",
   "id": "eb549f02",
   "metadata": {},
   "source": [
    "## Interacting with the API - advanced\n",
    "(9) Have a closer look at the list element named page. Did your GET request from exercise (7) return all\n",
    "event locations in Germany? Obviously not - there are of course much more venues in Germany than\n",
    "those contained in this list. Your GET request only yielded the first results page containing the first\n",
    "20 out of several thousands of venues. Check the API documentation under the section Venue Search.\n",
    "How can you request the venues from the remaining results pages? Iterate over the results pages and\n",
    "perform GET requests for all venues in Germany. After each iteration, extract the seven variables name,\n",
    "city, postalCode, address, url, longitude, and latitude. Join the information in one large\n",
    "data frame. Print the first 10 rows and the shape of the resulting data frame. The resulting data frame\n",
    "should look something like this (note that the exact number of search results may have changed since\n",
    "this document has been last modified):"
   ]
  },
  {
   "cell_type": "markdown",
   "id": "df7c5791",
   "metadata": {},
   "source": [
    "The venue search shows us that we can specify the number of entries contained on one page and that we can specify which page we want to look at. With this information we can design a function in combination with a loop which will get the data and also tidy it."
   ]
  },
  {
   "cell_type": "code",
   "execution_count": 9,
   "id": "ae7672a3",
   "metadata": {},
   "outputs": [],
   "source": [
    "## First we are going to write a function that will perform the get request \n",
    "\n",
    "def venue_request(url,api_key,country_Code,page):\n",
    "    link=url\n",
    "    api_Key=api_key\n",
    "    countryCode=country_Code\n",
    "    venues_list=requests.get(url, params={\"apikey\": api_Key, \"countryCode\": countryCode, 'page':page,'locale':'*'}).json()\n",
    "    return(venues_list)\n",
    "#create a function to extract the values from the task before"
   ]
  },
  {
   "cell_type": "code",
   "execution_count": 10,
   "id": "0b97924f",
   "metadata": {},
   "outputs": [
    {
     "ename": "NameError",
     "evalue": "name 'tickets_content' is not defined",
     "output_type": "error",
     "traceback": [
      "\u001b[1;31m---------------------------------------------------------------------------\u001b[0m",
      "\u001b[1;31mNameError\u001b[0m                                 Traceback (most recent call last)",
      "\u001b[1;32m~\\AppData\\Local\\Temp\\ipykernel_63328\\1600203614.py\u001b[0m in \u001b[0;36m<module>\u001b[1;34m\u001b[0m\n\u001b[0;32m      1\u001b[0m \u001b[1;31m#prepare the environment for the loop\u001b[0m\u001b[1;33m\u001b[0m\u001b[1;33m\u001b[0m\u001b[0m\n\u001b[1;32m----> 2\u001b[1;33m \u001b[0mpages\u001b[0m\u001b[1;33m=\u001b[0m\u001b[0mlist\u001b[0m\u001b[1;33m(\u001b[0m\u001b[0mrange\u001b[0m\u001b[1;33m(\u001b[0m\u001b[0mtickets_content\u001b[0m\u001b[1;33m[\u001b[0m\u001b[1;34m'page'\u001b[0m\u001b[1;33m]\u001b[0m\u001b[1;33m[\u001b[0m\u001b[1;34m'totalPages'\u001b[0m\u001b[1;33m]\u001b[0m\u001b[1;33m)\u001b[0m\u001b[1;33m)\u001b[0m\u001b[1;33m\u001b[0m\u001b[1;33m\u001b[0m\u001b[0m\n\u001b[0m",
      "\u001b[1;31mNameError\u001b[0m: name 'tickets_content' is not defined"
     ]
    }
   ],
   "source": [
    "#prepare the environment for the loop\n",
    "pages=list(range(tickets_content['page']['totalPages']))"
   ]
  },
  {
   "cell_type": "code",
   "execution_count": null,
   "id": "7bb1c3a9",
   "metadata": {},
   "outputs": [],
   "source": [
    "venues_Liste=[None]*(tickets_content['page']['totalPages']) \n",
    "for p in pages:\n",
    "    time.sleep(0.2)\n",
    "    venues_Liste[p]=requests.get('https://app.ticketmaster.com/discovery/v2/venues', params={\"apikey\": api_key1, \"countryCode\": 'DE', 'page':p,'locale':'*'}).json()"
   ]
  },
  {
   "cell_type": "code",
   "execution_count": null,
   "id": "d511bc5b",
   "metadata": {},
   "outputs": [],
   "source": [
    "#find entries in the list with an error message\n",
    "error_pages=list()\n",
    "for e in pages:\n",
    "    if '_embedded' in venues_Liste[e]:\n",
    "        continue\n",
    "    else:\n",
    "        page_index=e\n",
    "        error_pages.append(page_index)\n",
    "#print the error message\n",
    "print(error_pages)\n",
    "for i in error_pages:\n",
    "    print(venues_Liste[i])\n",
    "#reverse order of error pages\n",
    "error_pages.reverse()\n",
    "print(error_pages)\n",
    "venues_Liste2=venues_Liste.copy()"
   ]
  },
  {
   "cell_type": "code",
   "execution_count": null,
   "id": "b2fa7b37",
   "metadata": {},
   "outputs": [],
   "source": [
    "#remove entries with error message\n",
    "for i in error_pages:\n",
    "   venues_Liste2.pop(i)\n",
    "vpages=len(venues_Liste2)\n",
    "vpages=list(range(vpages))   "
   ]
  },
  {
   "cell_type": "code",
   "execution_count": null,
   "id": "c9eeaa6b",
   "metadata": {},
   "outputs": [],
   "source": [
    "#create a new data frame with every page\n",
    "venues_de=pd.DataFrame()\n",
    "\n",
    "for p in vpages:\n",
    "    names_de=[]\n",
    "    city_de=[]\n",
    "    postal_Code_de=[]\n",
    "    address_de=[]\n",
    "    url_de=[]\n",
    "    longitude_de=[]\n",
    "    latitude_de=[]\n",
    "    for i in venues_Liste2[p]['_embedded']['venues']:\n",
    "        if 'name' in i:\n",
    "            names_de.append(i['name'])\n",
    "        else:\n",
    "            names_de.append(np.NaN)\n",
    "        if 'city' in i:\n",
    "            city_de.append(i['city']['name'])\n",
    "        else:\n",
    "            city_de.append(np.NaN)            \n",
    "        if 'postalCode' in i:\n",
    "            postal_Code_de.append(i['postalCode'])\n",
    "        else:\n",
    "            postal_Code_de.append('N/A')\n",
    "        if 'address' in i:\n",
    "            if 'line1' in i['address']:\n",
    "                address_de.append(i['address']['line1'])\n",
    "            else:\n",
    "                address_de.append(np.NaN)    \n",
    "        else:\n",
    "            address_de.append(np.NaN)\n",
    "        if 'url' in i:\n",
    "            url_de.append(i['url'])\n",
    "        else:\n",
    "            url_de.append(np.NaN)\n",
    "        if 'location' in i:\n",
    "            longitude_de.append(i['location']['longitude'])\n",
    "            latitude_de.append(i['location']['latitude'])\n",
    "        else:\n",
    "            longitude_de.append(np.NaN)\n",
    "            latitude_de.append(np.NaN)                    \n",
    "\n",
    "    #store them in a data frame\n",
    "    var_dict={'name':names_de,\n",
    "            'city':city_de,\n",
    "            'postalCode':postal_Code_de,\n",
    "            'address':address_de,\n",
    "            'url':url_de,\n",
    "            'longitude':longitude_de,\n",
    "            'latitude':latitude_de}\n",
    "    venues_df=pd.DataFrame(var_dict)\n",
    "    venues_de=pd.concat([venues_de,venues_df]) \n",
    "    "
   ]
  },
  {
   "cell_type": "code",
   "execution_count": null,
   "id": "c0c66436",
   "metadata": {},
   "outputs": [],
   "source": [
    "venues_de.head()"
   ]
  },
  {
   "cell_type": "markdown",
   "id": "a867f4ce",
   "metadata": {},
   "source": [
    "## Visualizing the extracted data\n",
    "(10) Below, you can find code that produces a map of Germany. Add points to the map indicating the\n",
    "locations of the event venues across Germany.<br>"
   ]
  },
  {
   "cell_type": "code",
   "execution_count": null,
   "id": "76c9c9d9",
   "metadata": {},
   "outputs": [],
   "source": [
    "import geopandas as gpd\n",
    "import matplotlib.pyplot as plt\n",
    "from shapely.geometry import Point, Polygon"
   ]
  },
  {
   "cell_type": "code",
   "execution_count": null,
   "id": "be486bdd",
   "metadata": {},
   "outputs": [],
   "source": [
    "crs={'init':'epsg:4326'}"
   ]
  },
  {
   "cell_type": "code",
   "execution_count": null,
   "id": "32452bdd",
   "metadata": {},
   "outputs": [],
   "source": [
    "venues_de['longitude'] = pd.to_numeric(venues_de['longitude'])\n",
    "venues_de['latitude'] = pd.to_numeric(venues_de['latitude'])"
   ]
  },
  {
   "cell_type": "code",
   "execution_count": null,
   "id": "1d290cbd",
   "metadata": {},
   "outputs": [],
   "source": [
    "geometry=[Point(xy) for xy in zip(venues_de['longitude'],venues_de['latitude'])]"
   ]
  },
  {
   "cell_type": "code",
   "execution_count": null,
   "id": "51b57d6b",
   "metadata": {},
   "outputs": [],
   "source": [
    "geo_df=gpd.GeoDataFrame(venues_de, crs=crs, geometry=geometry)\n",
    "geo_df.head()"
   ]
  },
  {
   "cell_type": "code",
   "execution_count": null,
   "id": "202be931",
   "metadata": {},
   "outputs": [],
   "source": [
    "geo_df.plot()"
   ]
  },
  {
   "cell_type": "code",
   "execution_count": null,
   "id": "ba10e238",
   "metadata": {},
   "outputs": [],
   "source": [
    "fig,ax=plt.subplots(figsize=(7,7))\n",
    "\n",
    "# get a base map of Germany\n",
    "map = gpd.read_file(gpd.datasets.get_path(\"naturalearth_lowres\"))\n",
    "map = map[map.name == \"Germany\"]\n",
    "# plot the map\n",
    "map.plot(ax = ax, color='grey',alpha=1,linewidth=1,cmap='cividis',zorder=1)\n",
    "# add geodata to to the map\n",
    "geo_df.plot(ax=ax,color='red',markersize=1,zorder=2)\n",
    "\n"
   ]
  },
  {
   "cell_type": "code",
   "execution_count": null,
   "id": "108561d6",
   "metadata": {},
   "outputs": [],
   "source": [
    "fig,ax=plt.subplots(figsize=(7,7))\n",
    "\n",
    "# get a base map of Germany\n",
    "map = gpd.read_file(gpd.datasets.get_path(\"naturalearth_lowres\"))\n",
    "map = map[map.name == \"Germany\"]\n",
    "# plot the map\n",
    "\n",
    "# plot the map\n",
    "map.plot(ax = ax, color='grey',alpha=1,linewidth=1,cmap='cividis',zorder=1)\n",
    "# add geodata to to the map\n",
    "geo_df.plot(ax=ax,color='red',markersize=1,zorder=2)\n",
    "\n",
    "ax.set_xlim([4,16])\n",
    "ax.set_ylim([45,57])\n",
    "\n",
    "plt.show()"
   ]
  },
  {
   "cell_type": "markdown",
   "id": "fddc1a0e",
   "metadata": {},
   "source": [
    "(11) You will find that some coordinates lie way beyond the German borders and can be assumed to be faulty.\n",
    "Set coordinate values to NA where the value of longitude is outside the range (5.866, 15.042) or\n",
    "where the value of latitude is outside the range (47.270, 55.059) (these coordinate ranges have\n",
    "been derived from the extreme points of Germany as listed on Wikipedia (see here). For extreme points\n",
    "of other countries, see here). <br>"
   ]
  },
  {
   "cell_type": "code",
   "execution_count": null,
   "id": "0e9b89e2",
   "metadata": {},
   "outputs": [],
   "source": [
    "#set values outside the intervals to NaN\n",
    "venues_de[['longitude','latitude']]=venues_de[['longitude','latitude']].where(((venues_de['longitude']>5.866)&(venues_de['longitude']<15.042))&((venues_de['latitude'] > 47.270) & (venues_de['latitude'] < 55.059)))"
   ]
  },
  {
   "cell_type": "code",
   "execution_count": null,
   "id": "588f8c06",
   "metadata": {},
   "outputs": [],
   "source": [
    "#set values outside the intervals to NaN\n",
    "venues_de[['longitude','latitude']]=venues_de[['longitude','latitude']].where(((venues_de['longitude']>5.866)&(venues_de['longitude']<15.042))&((venues_de['latitude'] > 47.270) & (venues_de['latitude'] < 55.059)))\n",
    "geometry2=[Point(xy) for xy in zip(venues_de['longitude'],venues_de['latitude'])]\n",
    "geo_df2=gpd.GeoDataFrame(venues_de, crs=crs, geometry=geometry2)\n",
    "geo_df2.plot()"
   ]
  },
  {
   "cell_type": "code",
   "execution_count": null,
   "id": "b267fa67",
   "metadata": {},
   "outputs": [],
   "source": [
    "fig,ax=plt.subplots(figsize=(7,7))\n",
    "\n",
    "# get a base map of Germany\n",
    "map = gpd.read_file(gpd.datasets.get_path(\"naturalearth_lowres\"))\n",
    "map = map[map.name == \"Germany\"]\n",
    "# plot the map\n",
    "\n",
    "# plot the map\n",
    "base=map.plot(ax = ax, color='grey',alpha=1,linewidth=1,cmap='cividis',zorder=1)\n",
    "# add geodata to to the map\n",
    "geo_df2.plot(ax=ax,color='red',markersize=1,zorder=2)\n",
    "\n"
   ]
  },
  {
   "cell_type": "markdown",
   "id": "16b94046",
   "metadata": {},
   "source": [
    "## Event locations in other countries\n",
    "(12) Repeat exercises (9)–(11) for another European country of your choice. (Hint: Clean code pays off! If\n",
    "you have coded the exercises efficiently, only very few adaptions need to be made.)"
   ]
  }
 ],
 "metadata": {
  "kernelspec": {
   "display_name": "Python 3 (ipykernel)",
   "language": "python",
   "name": "python3"
  },
  "language_info": {
   "codemirror_mode": {
    "name": "ipython",
    "version": 3
   },
   "file_extension": ".py",
   "mimetype": "text/x-python",
   "name": "python",
   "nbconvert_exporter": "python",
   "pygments_lexer": "ipython3",
   "version": "3.9.13"
  }
 },
 "nbformat": 4,
 "nbformat_minor": 5
}
